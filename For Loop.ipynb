{
 "cells": [
  {
   "cell_type": "markdown",
   "id": "4acf3f05-3e48-4aef-ba7e-70dbc7942c31",
   "metadata": {},
   "source": [
    "For Loop"
   ]
  },
  {
   "cell_type": "markdown",
   "id": "181de3e5-bd46-4dbc-9cf1-7a6b77d57fac",
   "metadata": {},
   "source": [
    "Basic Level:"
   ]
  },
  {
   "cell_type": "markdown",
   "id": "494c4452-4263-4547-a063-b2e4fb2dc0e3",
   "metadata": {},
   "source": [
    "1. Write a Python program to print the numbers from 1 to 10 using a `for` loop."
   ]
  },
  {
   "cell_type": "code",
   "execution_count": 2,
   "id": "fcf962ef-7379-4a91-b7c4-a6223097bbf9",
   "metadata": {},
   "outputs": [
    {
     "name": "stdout",
     "output_type": "stream",
     "text": [
      "1\n",
      "2\n",
      "3\n",
      "4\n",
      "5\n",
      "6\n",
      "7\n",
      "8\n",
      "9\n",
      "10\n"
     ]
    }
   ],
   "source": [
    "for x in range(1,11):\n",
    "    print(x)"
   ]
  },
  {
   "cell_type": "markdown",
   "id": "24cf453f-0926-407f-88f1-91921ffda445",
   "metadata": {},
   "source": [
    "2. Create a program that calculates the sum of all numbers in a list using a `for` loop."
   ]
  },
  {
   "cell_type": "code",
   "execution_count": 5,
   "id": "a4daf363-098e-4a9d-a607-cf48512a6263",
   "metadata": {},
   "outputs": [
    {
     "name": "stdout",
     "output_type": "stream",
     "text": [
      "The sum of the number is : 15\n"
     ]
    }
   ],
   "source": [
    "numbers=[1,2,3,4,5]\n",
    "sum_of_number=0\n",
    "for number in numbers:\n",
    "    sum_of_number+= number\n",
    "print(\"The sum of the number is :\",sum_of_number)"
   ]
  },
  {
   "cell_type": "markdown",
   "id": "2da2a126-0018-47c5-b931-366c5f98e073",
   "metadata": {},
   "source": [
    "3. Write a program to print the characters of a string in reverse order using a `for` loop."
   ]
  },
  {
   "cell_type": "code",
   "execution_count": 6,
   "id": "817da6ab-8fed-48f0-b0f0-2f2060e8bf2d",
   "metadata": {},
   "outputs": [
    {
     "name": "stdin",
     "output_type": "stream",
     "text": [
      "enter a string : my name is vishal\n"
     ]
    },
    {
     "name": "stdout",
     "output_type": "stream",
     "text": [
      "Reversed string: lahsiv si eman ym\n"
     ]
    }
   ],
   "source": [
    "input_string=input(\"enter a string :\")\n",
    "reversed_string=\"\"\n",
    "for char in reversed(input_string):\n",
    "    reversed_string+=char\n",
    "print(\"Reversed string:\",reversed_string)"
   ]
  },
  {
   "cell_type": "markdown",
   "id": "7d4e9ae0-2cc2-4e53-af63-3128d37b9d5e",
   "metadata": {},
   "source": [
    "4. Develop a program that finds the factorial of a given number using a `for` loop.\n",
    "\n"
   ]
  },
  {
   "cell_type": "code",
   "execution_count": 10,
   "id": "a6d34957-47c9-4c2d-82e4-ac27c28dd63a",
   "metadata": {},
   "outputs": [
    {
     "name": "stdin",
     "output_type": "stream",
     "text": [
      "Enter a non-negative integer : 5\n"
     ]
    },
    {
     "name": "stdout",
     "output_type": "stream",
     "text": [
      "1\n",
      "2\n",
      "6\n",
      "24\n",
      "120\n"
     ]
    }
   ],
   "source": [
    "n=int(input(\"Enter a non-negative integer :\"))\n",
    "if n<0:\n",
    "    print(\"print enter a non-negative integer\")\n",
    "else:\n",
    "    factorial =1\n",
    "    for i in range(1,n+1):\n",
    "        factorial*=i\n",
    "        print(factorial)"
   ]
  },
  {
   "cell_type": "markdown",
   "id": "a422a0db-c7b8-4021-9b7a-54af6c5729e3",
   "metadata": {},
   "source": [
    "5. Create a program to print the multiplication table of a given number using a `for` loop"
   ]
  },
  {
   "cell_type": "code",
   "execution_count": 14,
   "id": "8645c9f2-1405-4e1d-a10c-97a557e0b39e",
   "metadata": {},
   "outputs": [
    {
     "name": "stdin",
     "output_type": "stream",
     "text": [
      "Enter a any number for table 9\n"
     ]
    },
    {
     "name": "stdout",
     "output_type": "stream",
     "text": [
      "9 x 1 = 9\n",
      "9 x 2 = 18\n",
      "9 x 3 = 27\n",
      "9 x 4 = 36\n",
      "9 x 5 = 45\n",
      "9 x 6 = 54\n",
      "9 x 7 = 63\n",
      "9 x 8 = 72\n",
      "9 x 9 = 81\n",
      "9 x 10 = 90\n"
     ]
    }
   ],
   "source": [
    "n=int(input(\"Enter a any number for table\"))\n",
    "for i in range(1,11):\n",
    "    t=i*n\n",
    "    print(f\"{n} x {i} = {t}\")"
   ]
  },
  {
   "cell_type": "markdown",
   "id": "df35775b-5eaa-481d-8515-a41eb7104011",
   "metadata": {},
   "source": [
    "6. Write a program that counts the number of even and odd numbers in a list using a `for` loop."
   ]
  },
  {
   "cell_type": "code",
   "execution_count": 20,
   "id": "29d4f5d6-e20b-41ad-b488-c48ad1eeb04d",
   "metadata": {},
   "outputs": [
    {
     "name": "stdout",
     "output_type": "stream",
     "text": [
      "count of even number : 4\n",
      "count of odd number : 5\n"
     ]
    }
   ],
   "source": [
    "list1=[1,2,3,4,5,6,7,8,9]\n",
    "even_count=0\n",
    "odd_count=0\n",
    "for i in list1:\n",
    "    if i%2==0:\n",
    "        even_count+=1\n",
    "    else:\n",
    "        odd_count+=1\n",
    "print(\"count of even number :\",even_count)\n",
    "print(\"count of odd number :\",odd_count)"
   ]
  },
  {
   "cell_type": "markdown",
   "id": "ab55f686-f679-41dd-b5c4-6b6c3b601617",
   "metadata": {},
   "source": [
    "7. Develop a program that prints the squares of numbers from 1 to 5 using a `for` loop."
   ]
  },
  {
   "cell_type": "code",
   "execution_count": 26,
   "id": "d052c7ed-b671-4bb9-9524-35c075dc99ae",
   "metadata": {},
   "outputs": [
    {
     "name": "stdout",
     "output_type": "stream",
     "text": [
      "the square of 1 is 1\n",
      "the square of 2 is 4\n",
      "the square of 3 is 9\n",
      "the square of 4 is 16\n",
      "the square of 5 is 25\n"
     ]
    }
   ],
   "source": [
    "for i in range(1,6):\n",
    "    square=i**2\n",
    "    print(f\"the square of {i} is {square}\")"
   ]
  },
  {
   "cell_type": "markdown",
   "id": "2c1332d7-b0b3-491b-8c0b-2187a3352cb1",
   "metadata": {},
   "source": [
    "8. Create a program to find the length of a string without using the `len()` function"
   ]
  },
  {
   "cell_type": "code",
   "execution_count": 27,
   "id": "a06d67cd-436c-44e8-a4f2-17fcb28fccc9",
   "metadata": {},
   "outputs": [
    {
     "name": "stdin",
     "output_type": "stream",
     "text": [
      "Enter a string my name is vishal karhad\n"
     ]
    },
    {
     "name": "stdout",
     "output_type": "stream",
     "text": [
      "the length of the string is : 24\n"
     ]
    }
   ],
   "source": [
    "input_string=input(\"Enter a string\")\n",
    "length=0\n",
    "for char in input_string:\n",
    "    length+=1\n",
    "print(\"the length of the string is :\",length)"
   ]
  },
  {
   "cell_type": "markdown",
   "id": "d4b31f44-70b5-439d-9fd8-34c0ae8e43b2",
   "metadata": {},
   "source": [
    "9. Write a program that calculates the average of a list of numbers using a `for` loop."
   ]
  },
  {
   "cell_type": "code",
   "execution_count": 1,
   "id": "500a3fa4-6102-412f-96d0-4d4f177bc83d",
   "metadata": {},
   "outputs": [
    {
     "name": "stdout",
     "output_type": "stream",
     "text": [
      "The average of the number is: 3.0\n"
     ]
    }
   ],
   "source": [
    "numbers =[1,2,3,4,5]\n",
    "total=0\n",
    "count=0\n",
    "for number in numbers:\n",
    "    total+=number\n",
    "    count+=1\n",
    "if count>0:\n",
    "    average = total/count\n",
    "    print(f\"The average of the number is: {average}\")\n",
    "else:\n",
    "    print(\"The list is empty, so the average cannot be Calculated\")"
   ]
  },
  {
   "cell_type": "markdown",
   "id": "c07e0937-6f97-4203-99ba-1ff126c795bb",
   "metadata": {},
   "source": [
    "10. Develop a program that prints the first `n` Fibonacci numbers using a `for` loop."
   ]
  },
  {
   "cell_type": "code",
   "execution_count": 14,
   "id": "955228d7-5f1c-439a-80cd-6204ed57324e",
   "metadata": {},
   "outputs": [
    {
     "name": "stdin",
     "output_type": "stream",
     "text": [
      "Enter the number of Fibonacci numbers to generate:  9\n"
     ]
    }
   ],
   "source": [
    "n = int(input(\"Enter the number of Fibonacci numbers to generate: \"))"
   ]
  },
  {
   "cell_type": "code",
   "execution_count": 15,
   "id": "8b6d54af-beae-44e9-b330-03a2ec42cc09",
   "metadata": {},
   "outputs": [],
   "source": [
    "fibonacci_numbers = [0, 1]"
   ]
  },
  {
   "cell_type": "code",
   "execution_count": 16,
   "id": "8b3ed031-31e1-48bb-879e-612cf105e041",
   "metadata": {},
   "outputs": [],
   "source": [
    "for i in range(2, n):\n",
    "    next_fibonacci = fibonacci_numbers[-1] + fibonacci_numbers[-2]\n",
    "    fibonacci_numbers.append(next_fibonacci)"
   ]
  },
  {
   "cell_type": "code",
   "execution_count": 17,
   "id": "517be4ed-aff3-4e26-9dd2-17d3006027a3",
   "metadata": {},
   "outputs": [
    {
     "name": "stdout",
     "output_type": "stream",
     "text": [
      "The first 9 Fibonacci numbers are:\n",
      "0\n",
      "1\n",
      "1\n",
      "2\n",
      "3\n",
      "5\n",
      "8\n",
      "13\n",
      "21\n"
     ]
    }
   ],
   "source": [
    "print(f\"The first {n} Fibonacci numbers are:\")\n",
    "for number in fibonacci_numbers:\n",
    "    print(number)"
   ]
  },
  {
   "cell_type": "markdown",
   "id": "b92f26d7-baa4-4816-b2b1-c83124a76109",
   "metadata": {},
   "source": [
    "Intermediate Level:"
   ]
  },
  {
   "cell_type": "markdown",
   "id": "6ffd5b3c-cae0-4593-b0b9-4b1289e8324f",
   "metadata": {},
   "source": [
    "11. Write a program to check if a given list contains any duplicates using a `for` loop."
   ]
  },
  {
   "cell_type": "code",
   "execution_count": 20,
   "id": "1b6e8331-6bbe-4613-ac2a-da08ff3e41de",
   "metadata": {},
   "outputs": [
    {
     "name": "stdout",
     "output_type": "stream",
     "text": [
      "The list contains duplicates.\n"
     ]
    }
   ],
   "source": [
    "my_list = [1, 2, 3, 4, 5, 3]\n",
    "has_duplicates = False\n",
    "for i in range(len(my_list)):\n",
    "    for j in range(i + 1, len(my_list)):\n",
    "        if my_list[i] == my_list[j]:\n",
    "            has_duplicates = True\n",
    "            break\n",
    "if has_duplicates:\n",
    "    print(\"The list contains duplicates.\")\n",
    "else:\n",
    "    print(\"The list does not contain duplicates.\")"
   ]
  },
  {
   "cell_type": "markdown",
   "id": "84371a94-347a-4c95-842c-72c97afa7636",
   "metadata": {},
   "source": [
    "12. Create a program that prints the prime numbers in a given range using a `for` loop."
   ]
  },
  {
   "cell_type": "code",
   "execution_count": 21,
   "id": "9ff054dc-2770-4f5d-8421-a2909deccaaf",
   "metadata": {},
   "outputs": [
    {
     "name": "stdin",
     "output_type": "stream",
     "text": [
      "Enter your lower limit of the range: 8\n",
      "Enter your upper limit of thr range: 100\n"
     ]
    },
    {
     "name": "stdout",
     "output_type": "stream",
     "text": [
      "11\n",
      "13\n",
      "17\n",
      "19\n",
      "23\n",
      "29\n",
      "31\n",
      "37\n",
      "41\n",
      "43\n",
      "47\n",
      "53\n",
      "59\n",
      "61\n",
      "67\n",
      "71\n",
      "73\n",
      "79\n",
      "83\n",
      "89\n",
      "97\n"
     ]
    }
   ],
   "source": [
    "lower_limit=int(input(\"Enter your lower limit of the range:\"))\n",
    "upper_limit=int(input(\"Enter your upper limit of thr range:\"))\n",
    "for num in range(lower_limit,upper_limit+1):\n",
    "    if num>1:\n",
    "        is_prime = True\n",
    "        for i in range(2,int(num**0.5)+1):\n",
    "            if num%i==0:\n",
    "                is_prime = False\n",
    "                break\n",
    "        if is_prime:\n",
    "            print(num)"
   ]
  },
  {
   "cell_type": "markdown",
   "id": "66ec8b8a-2765-4552-8152-80aee46601df",
   "metadata": {},
   "source": [
    "13. Develop a program that counts the number of vowels in a string using a `for` loop.\n",
    "\n"
   ]
  },
  {
   "cell_type": "code",
   "execution_count": 28,
   "id": "04cac104-3a0f-4940-9b33-62ef72ee470b",
   "metadata": {},
   "outputs": [
    {
     "name": "stdout",
     "output_type": "stream",
     "text": [
      "the number of vowel present in your strings is 7\n"
     ]
    }
   ],
   "source": [
    "input_string=\"my name is vishal karhad\"\n",
    "vowel_count=0\n",
    "vowels='AEIOUaeiou'\n",
    "for char in input_string:\n",
    "    if char in vowels:\n",
    "        vowel_count+=1\n",
    "print(\"the number of vowel present in your strings is\",vowel_count)"
   ]
  },
  {
   "cell_type": "markdown",
   "id": "a811bf55-fd2c-4a65-b207-70807c2fd72f",
   "metadata": {},
   "source": [
    "14. Write a program to find the maximum element in a 2D list using a nested `for` loop."
   ]
  },
  {
   "cell_type": "code",
   "execution_count": 29,
   "id": "5be8ecf6-99de-473f-baf0-62c88965eb67",
   "metadata": {},
   "outputs": [
    {
     "name": "stdout",
     "output_type": "stream",
     "text": [
      "The maximum element in the 2D list is: 9\n"
     ]
    }
   ],
   "source": [
    "matrix = [\n",
    "    [3, 1, 4],\n",
    "    [1, 5, 9],\n",
    "    [2, 6, 5],\n",
    "    [3, 5, 8]\n",
    "]\n",
    "max_element = float('-inf')\n",
    "for row in matrix:\n",
    "    for element in row:\n",
    "        if element > max_element:\n",
    "            max_element = element\n",
    "print(f\"The maximum element in the 2D list is: {max_element}\")           "
   ]
  },
  {
   "cell_type": "markdown",
   "id": "f694a4e0-3a6d-4c79-8266-49d360f5310b",
   "metadata": {},
   "source": [
    "15. Create a program that removes all occurrences of a specific element from a list using a `for` loop."
   ]
  },
  {
   "cell_type": "code",
   "execution_count": 30,
   "id": "9ec66305-2013-4205-a806-35eb9036c8d0",
   "metadata": {},
   "outputs": [
    {
     "name": "stdout",
     "output_type": "stream",
     "text": [
      "List after removing all occurrences of 2 : [1, 3, 4, 5, 6]\n"
     ]
    }
   ],
   "source": [
    "my_list = [1, 2, 3, 4, 2, 5, 2, 6]\n",
    "element_to_remove = 2\n",
    "for _ in range(my_list.count(element_to_remove)):\n",
    "    my_list.remove(element_to_remove)\n",
    "print(\"List after removing all occurrences of\", element_to_remove, \":\", my_list)"
   ]
  },
  {
   "cell_type": "markdown",
   "id": "f971e25f-b186-48d5-80d6-78651817e844",
   "metadata": {},
   "source": [
    "16. Develop a program that generates a multiplication table for numbers from 1 to 5 using a nested `for` loop.\n",
    "\n"
   ]
  },
  {
   "cell_type": "code",
   "execution_count": 31,
   "id": "dd218f25-6dbf-4f3f-963d-9db3ea7b5eeb",
   "metadata": {},
   "outputs": [
    {
     "name": "stdout",
     "output_type": "stream",
     "text": [
      "Multiplication table for 1:\n",
      "1 x 1 = 1\n",
      "1 x 2 = 2\n",
      "1 x 3 = 3\n",
      "1 x 4 = 4\n",
      "1 x 5 = 5\n",
      "1 x 6 = 6\n",
      "1 x 7 = 7\n",
      "1 x 8 = 8\n",
      "1 x 9 = 9\n",
      "1 x 10 = 10\n",
      "\n",
      "Multiplication table for 2:\n",
      "2 x 1 = 2\n",
      "2 x 2 = 4\n",
      "2 x 3 = 6\n",
      "2 x 4 = 8\n",
      "2 x 5 = 10\n",
      "2 x 6 = 12\n",
      "2 x 7 = 14\n",
      "2 x 8 = 16\n",
      "2 x 9 = 18\n",
      "2 x 10 = 20\n",
      "\n",
      "Multiplication table for 3:\n",
      "3 x 1 = 3\n",
      "3 x 2 = 6\n",
      "3 x 3 = 9\n",
      "3 x 4 = 12\n",
      "3 x 5 = 15\n",
      "3 x 6 = 18\n",
      "3 x 7 = 21\n",
      "3 x 8 = 24\n",
      "3 x 9 = 27\n",
      "3 x 10 = 30\n",
      "\n",
      "Multiplication table for 4:\n",
      "4 x 1 = 4\n",
      "4 x 2 = 8\n",
      "4 x 3 = 12\n",
      "4 x 4 = 16\n",
      "4 x 5 = 20\n",
      "4 x 6 = 24\n",
      "4 x 7 = 28\n",
      "4 x 8 = 32\n",
      "4 x 9 = 36\n",
      "4 x 10 = 40\n",
      "\n",
      "Multiplication table for 5:\n",
      "5 x 1 = 5\n",
      "5 x 2 = 10\n",
      "5 x 3 = 15\n",
      "5 x 4 = 20\n",
      "5 x 5 = 25\n",
      "5 x 6 = 30\n",
      "5 x 7 = 35\n",
      "5 x 8 = 40\n",
      "5 x 9 = 45\n",
      "5 x 10 = 50\n",
      "\n"
     ]
    }
   ],
   "source": [
    "start = 1\n",
    "end = 5\n",
    "\n",
    "for i in range(start, end + 1):\n",
    "    print(f\"Multiplication table for {i}:\")\n",
    "\n",
    "    for j in range(1, 11):\n",
    "        result = i * j\n",
    "        print(f\"{i} x {j} = {result}\")\n",
    "\n",
    "    print()"
   ]
  },
  {
   "cell_type": "markdown",
   "id": "34dca5f4-f7fd-4e98-a177-1043467e18f5",
   "metadata": {},
   "source": [
    "17. Write a program that converts a list of Fahrenheit temperatures to Celsius using a `for` loop.\n",
    "\n"
   ]
  },
  {
   "cell_type": "code",
   "execution_count": 32,
   "id": "0d9e2fd8-4257-4329-906b-d89888e68601",
   "metadata": {},
   "outputs": [
    {
     "name": "stdout",
     "output_type": "stream",
     "text": [
      "Fahrenheit Temperatures: [32, 68, 86, 104, 212]\n",
      "Celsius Temperatures: [0.0, 20.0, 30.0, 40.0, 100.0]\n"
     ]
    }
   ],
   "source": [
    "fahrenheit_temperatures = [32, 68, 86, 104, 212]\n",
    "celsius_temperatures = []\n",
    "for fahrenheit in fahrenheit_temperatures:\n",
    "    celsius = (fahrenheit - 32) * 5/9\n",
    "    celsius_temperatures.append(celsius)\n",
    "print(\"Fahrenheit Temperatures:\", fahrenheit_temperatures)\n",
    "print(\"Celsius Temperatures:\", celsius_temperatures)\n"
   ]
  },
  {
   "cell_type": "markdown",
   "id": "3f587367-17e4-4e1e-a783-76bc1195972f",
   "metadata": {},
   "source": [
    "18. Create a program to print the common elements from two lists using a `for` loop.\n"
   ]
  },
  {
   "cell_type": "code",
   "execution_count": 33,
   "id": "7f3b01af-dc4c-43b3-990d-db09fab524af",
   "metadata": {},
   "outputs": [
    {
     "name": "stdout",
     "output_type": "stream",
     "text": [
      "Common elements between list1 and list2: [3, 4, 5]\n"
     ]
    }
   ],
   "source": [
    "list1 = [1, 2, 3, 4, 5]\n",
    "list2 = [3, 4, 5, 6, 7]\n",
    "common_elements = []\n",
    "for element1 in list1:\n",
    "    for element2 in list2:\n",
    "        if element1 == element2:\n",
    "            common_elements.append(element1)\n",
    "print(\"Common elements between list1 and list2:\", common_elements)"
   ]
  },
  {
   "cell_type": "markdown",
   "id": "2bc16291-8110-4d0f-ae6a-c037ec41f2c4",
   "metadata": {},
   "source": [
    "19. Develop a program that prints the pattern of right-angled triangles using a `for` loop. Use ‘*’ to draw the\n",
    "pattern"
   ]
  },
  {
   "cell_type": "code",
   "execution_count": 36,
   "id": "100fa190-4c5f-4b73-9d13-af279f299299",
   "metadata": {},
   "outputs": [
    {
     "name": "stdout",
     "output_type": "stream",
     "text": [
      "*\n",
      "**\n",
      "***\n",
      "****\n",
      "*****\n"
     ]
    }
   ],
   "source": [
    "for i in range(5):\n",
    "    for j in range(i+1):\n",
    "        print(\"*\",end='')\n",
    "    print()"
   ]
  },
  {
   "cell_type": "markdown",
   "id": "a83396a7-d548-4db3-9138-518a932bd49f",
   "metadata": {},
   "source": [
    "20. Write a program to find the greatest common divisor (GCD) of two numbers using a `for` loop"
   ]
  },
  {
   "cell_type": "code",
   "execution_count": 42,
   "id": "2c256a52-5816-4e38-80d4-1e5a52041a52",
   "metadata": {},
   "outputs": [
    {
     "name": "stdin",
     "output_type": "stream",
     "text": [
      "Enter the first number:  7\n",
      "Enter the second number:  100\n"
     ]
    },
    {
     "name": "stdout",
     "output_type": "stream",
     "text": [
      "The GCD of 7 and 100 is: 1\n"
     ]
    }
   ],
   "source": [
    "num1 = int(input(\"Enter the first number: \"))\n",
    "num2 = int(input(\"Enter the second number: \"))\n",
    "gcd = 1\n",
    "smaller = min(num1, num2)\n",
    "for i in range(1, smaller + 1):\n",
    "    if num1 % i == 0 and num2 % i == 0:\n",
    "        gcd = i\n",
    "print(f\"The GCD of {num1} and {num2} is: {gcd}\")"
   ]
  },
  {
   "cell_type": "markdown",
   "id": "494332a6-ce45-4983-b4e6-1f8c39ef0612",
   "metadata": {},
   "source": [
    "Advanced Level:\n",
    "\n",
    " \n",
    "\n",
    "21. Create a program that calculates the sum of the digits of numbers in a list using a list comprehension"
   ]
  },
  {
   "cell_type": "code",
   "execution_count": 3,
   "id": "fd82e56b-8457-4348-94a8-d182f4367bad",
   "metadata": {},
   "outputs": [
    {
     "name": "stdout",
     "output_type": "stream",
     "text": [
      "Number: 123, Sum of Digits: 6\n",
      "Number: 45, Sum of Digits: 9\n",
      "Number: 678, Sum of Digits: 21\n",
      "Number: 9, Sum of Digits: 9\n",
      "Number: 12, Sum of Digits: 3\n"
     ]
    }
   ],
   "source": [
    "numbers = [123, 45, 678, 9, 12]\n",
    "sum_of_digits = [sum(int(digit) for digit in str(num)) for num in numbers]\n",
    "for num, digit_sum in zip(numbers, sum_of_digits):\n",
    "    print(f\"Number: {num}, Sum of Digits: {digit_sum}\")"
   ]
  },
  {
   "cell_type": "markdown",
   "id": "bf74d9a0-887f-4e6d-bf52-1d49a419f357",
   "metadata": {},
   "source": [
    "22. Write a program to find the prime factors of a given number using a `for` loop and list comprehension."
   ]
  },
  {
   "cell_type": "code",
   "execution_count": 4,
   "id": "fbc981b6-3b13-4596-a284-ed7954e008e3",
   "metadata": {},
   "outputs": [
    {
     "name": "stdin",
     "output_type": "stream",
     "text": [
      "Enter a number:  75\n"
     ]
    },
    {
     "name": "stdout",
     "output_type": "stream",
     "text": [
      "Prime factors of 75: [3, 5]\n"
     ]
    }
   ],
   "source": [
    "def prime_factors(n):\n",
    "    factors = [x for x in range(2, n + 1) if n % x == 0]\n",
    "    prime_factors = [x for x in factors if all(x % y != 0 for y in range(2, int(x**0.5) + 1))]\n",
    "    return prime_factors\n",
    "\n",
    "number = int(input(\"Enter a number: \"))\n",
    "print(f\"Prime factors of {number}: {prime_factors(number)}\")\n"
   ]
  },
  {
   "cell_type": "markdown",
   "id": "bad356b7-b5fb-48ea-be9a-fe0751a4d3ba",
   "metadata": {},
   "source": [
    "23.Program to extract unique elements from a list and store them in a new list using a list comprehension:"
   ]
  },
  {
   "cell_type": "code",
   "execution_count": 5,
   "id": "bd0bf72d-38f0-4dac-8660-23cfb47e78e0",
   "metadata": {},
   "outputs": [
    {
     "name": "stdout",
     "output_type": "stream",
     "text": [
      "Original List: [1, 2, 2, 3, 4, 4, 5]\n",
      "Unique List: [1, 2, 3, 4, 5]\n"
     ]
    }
   ],
   "source": [
    "original_list = [1, 2, 2, 3, 4, 4, 5]\n",
    "unique_list = list(set(original_list))\n",
    "print(\"Original List:\", original_list)\n",
    "print(\"Unique List:\", unique_list)\n"
   ]
  },
  {
   "cell_type": "markdown",
   "id": "daa23cc8-08d4-4883-85cd-b5bb777c4bde",
   "metadata": {},
   "source": [
    "24.Program to generate a list of all palindromic numbers up to a specified limit using a list comprehension:"
   ]
  },
  {
   "cell_type": "code",
   "execution_count": 6,
   "id": "59618739-bb23-4f43-9040-e79b36e11838",
   "metadata": {},
   "outputs": [
    {
     "name": "stdout",
     "output_type": "stream",
     "text": [
      "Palindromic Numbers: [1, 2, 3, 4, 5, 6, 7, 8, 9, 11, 22, 33, 44, 55, 66, 77, 88, 99]\n"
     ]
    }
   ],
   "source": [
    "limit = 100\n",
    "palindromic_numbers = [num for num in range(1, limit + 1) if str(num) == str(num)[::-1]]\n",
    "print(\"Palindromic Numbers:\", palindromic_numbers)\n"
   ]
  },
  {
   "cell_type": "markdown",
   "id": "dac9285e-2a24-44c3-80ae-179b9b8b3b44",
   "metadata": {},
   "source": [
    "25.Program to flatten a nested list using list comprehension:"
   ]
  },
  {
   "cell_type": "code",
   "execution_count": 7,
   "id": "f6d93a04-03f8-4bb8-8c23-bd77f783792c",
   "metadata": {},
   "outputs": [
    {
     "name": "stdout",
     "output_type": "stream",
     "text": [
      "Flattened List: [1, 2, 3, 4, 5, 6, 7, 8, 9]\n"
     ]
    }
   ],
   "source": [
    "nested_list = [[1, 2, 3], [4, 5, 6], [7, 8, 9]]\n",
    "flattened_list = [element for sublist in nested_list for element in sublist]\n",
    "print(\"Flattened List:\", flattened_list)\n"
   ]
  },
  {
   "cell_type": "markdown",
   "id": "31f035aa-649e-4b47-8b17-1202f93ec869",
   "metadata": {},
   "source": [
    "26.Program to compute the sum of even and odd numbers in a list separately using list comprehension:\n"
   ]
  },
  {
   "cell_type": "code",
   "execution_count": 8,
   "id": "9881f977-7f65-4122-bdc4-f8e45352672a",
   "metadata": {},
   "outputs": [
    {
     "name": "stdout",
     "output_type": "stream",
     "text": [
      "Sum of even numbers: 20\n",
      "Sum of odd numbers: 25\n"
     ]
    }
   ],
   "source": [
    "numbers = [1, 2, 3, 4, 5, 6, 7, 8, 9]\n",
    "sum_even = sum(x for x in numbers if x % 2 == 0)\n",
    "sum_odd = sum(x for x in numbers if x % 2 != 0)\n",
    "print(\"Sum of even numbers:\", sum_even)\n",
    "print(\"Sum of odd numbers:\", sum_odd)\n"
   ]
  },
  {
   "cell_type": "markdown",
   "id": "28d12c93-96fd-4e54-862c-88aefa008f60",
   "metadata": {},
   "source": [
    "27.Program to generate a list of squares of odd numbers between 1 and 10 using list comprehension:"
   ]
  },
  {
   "cell_type": "code",
   "execution_count": 9,
   "id": "529c643a-fa85-4bfa-b332-1d3e049eb2db",
   "metadata": {},
   "outputs": [
    {
     "name": "stdout",
     "output_type": "stream",
     "text": [
      "Squares of Odd Numbers: [1, 9, 25, 49, 81]\n"
     ]
    }
   ],
   "source": [
    "squares_of_odd_numbers = [x**2 for x in range(1, 11) if x % 2 != 0]\n",
    "print(\"Squares of Odd Numbers:\", squares_of_odd_numbers)\n"
   ]
  },
  {
   "cell_type": "markdown",
   "id": "1b58150b-cf1b-442a-a88a-fab574e34ca8",
   "metadata": {},
   "source": [
    "28.Program to combine two lists into a dictionary using list comprehension:"
   ]
  },
  {
   "cell_type": "code",
   "execution_count": 10,
   "id": "e198152e-bf32-4d67-97a9-f534f312dee4",
   "metadata": {},
   "outputs": [
    {
     "name": "stdout",
     "output_type": "stream",
     "text": [
      "Combined Dictionary: {'A': 1, 'B': 2, 'C': 3}\n"
     ]
    }
   ],
   "source": [
    "keys = ['A', 'B', 'C']\n",
    "values = [1, 2, 3]\n",
    "combined_dict = {k: v for k, v in zip(keys, values)}\n",
    "print(\"Combined Dictionary:\", combined_dict)\n"
   ]
  },
  {
   "cell_type": "markdown",
   "id": "0146a05c-6bc4-43bb-ac4b-16387130b991",
   "metadata": {},
   "source": [
    "29.Program to extract the vowels from a string and store them in a list using list comprehension:"
   ]
  },
  {
   "cell_type": "code",
   "execution_count": 11,
   "id": "f9bbaf45-a970-4505-a815-e1aa0c0f8cad",
   "metadata": {},
   "outputs": [
    {
     "name": "stdout",
     "output_type": "stream",
     "text": [
      "Vowels in the string: ['e', 'o', 'o']\n"
     ]
    }
   ],
   "source": [
    "input_string = \"Hello, World!\"\n",
    "vowels = [char for char in input_string if char.lower() in 'aeiou']\n",
    "print(\"Vowels in the string:\", vowels)\n"
   ]
  },
  {
   "cell_type": "markdown",
   "id": "5d6a5f4b-d0c3-47bd-97e6-09da68c860e2",
   "metadata": {},
   "source": [
    "30.Program to remove all non-numeric characters from a list of strings using list comprehension:"
   ]
  },
  {
   "cell_type": "code",
   "execution_count": 12,
   "id": "a9552587-e0ca-462a-94b8-33aba9d8d8ef",
   "metadata": {},
   "outputs": [
    {
     "name": "stdout",
     "output_type": "stream",
     "text": [
      "Numeric Strings: ['123', '45', '6', '7']\n"
     ]
    }
   ],
   "source": [
    "input_strings = [\"123\", \"abc45\", \"6def\", \"7\"]\n",
    "numeric_strings = [''.join(filter(str.isnumeric, s)) for s in input_strings]\n",
    "print(\"Numeric Strings:\", numeric_strings)\n"
   ]
  },
  {
   "cell_type": "markdown",
   "id": "6daf5cd4-4d19-42a8-8bdc-ca029e76d367",
   "metadata": {},
   "source": [
    "Challenge Level:\n",
    "\n",
    " \n",
    "\n",
    "31. Write a program to generate a list of prime numbers using the Sieve of Eratosthenes algorithm and list\n",
    "comprehension."
   ]
  },
  {
   "cell_type": "code",
   "execution_count": 13,
   "id": "7ab0a16e-a618-4a1d-a4a3-2778f3d4498c",
   "metadata": {},
   "outputs": [
    {
     "name": "stdin",
     "output_type": "stream",
     "text": [
      "Enter the limit to generate prime numbers:  15\n"
     ]
    },
    {
     "name": "stdout",
     "output_type": "stream",
     "text": [
      "Prime Numbers: [2, 3, 5, 7, 11, 13]\n"
     ]
    }
   ],
   "source": [
    "def sieve_eratosthenes(limit):\n",
    "    sieve = [True] * (limit + 1)\n",
    "    sieve[0] = sieve[1] = False\n",
    "    for num in range(2, int(limit**0.5) + 1):\n",
    "        if sieve[num]:\n",
    "            for multiple in range(num**2, limit + 1, num):\n",
    "                sieve[multiple] = False\n",
    "    prime_numbers = [num for num in range(2, limit + 1) if sieve[num]]\n",
    "    return prime_numbers\n",
    "\n",
    "limit = int(input(\"Enter the limit to generate prime numbers: \"))\n",
    "prime_list = sieve_eratosthenes(limit)\n",
    "print(\"Prime Numbers:\", prime_list)\n"
   ]
  },
  {
   "cell_type": "markdown",
   "id": "abb8d98b-bf20-424c-8cad-6c65303b87e4",
   "metadata": {},
   "source": [
    "32.Program to generate a list of all Pythagorean triplets up to a specified limit using list comprehension:"
   ]
  },
  {
   "cell_type": "code",
   "execution_count": 15,
   "id": "0bd12857-b6f1-4114-af25-856d1cde6304",
   "metadata": {},
   "outputs": [
    {
     "name": "stdout",
     "output_type": "stream",
     "text": [
      "Pythagorean Triplets up to 10 : [(3, 4, 5), (6, 8, 10)]\n"
     ]
    }
   ],
   "source": [
    "limit = 10  # Change the limit as needed\n",
    "pythagorean_triplets = [(a, b, c) for a in range(1, limit+1)\n",
    "                         for b in range(a, limit+1)\n",
    "                         for c in range(b, limit+1) if a**2 + b**2 == c**2]\n",
    "print(\"Pythagorean Triplets up to\", limit, \":\", pythagorean_triplets)\n"
   ]
  },
  {
   "cell_type": "markdown",
   "id": "378e9192-ffe6-4c57-b42e-a4af535ece52",
   "metadata": {},
   "source": [
    "33. Develop a program that generates a list of all possible combinations of two lists using list comprehension."
   ]
  },
  {
   "cell_type": "code",
   "execution_count": 16,
   "id": "8a39990f-fa9d-4a2d-bdfa-fa36169f1040",
   "metadata": {},
   "outputs": [
    {
     "name": "stdout",
     "output_type": "stream",
     "text": [
      "Combinations: [(1, 'A'), (1, 'B'), (2, 'A'), (2, 'B'), (3, 'A'), (3, 'B')]\n"
     ]
    }
   ],
   "source": [
    "list1 = [1, 2, 3]\n",
    "list2 = ['A', 'B']\n",
    "combinations = [(x, y) for x in list1 for y in list2]\n",
    "print(\"Combinations:\", combinations)\n"
   ]
  },
  {
   "cell_type": "markdown",
   "id": "bfd76c11-5d0c-4f83-817a-0d2208a80675",
   "metadata": {},
   "source": [
    "34. Write a program that calculates the mean, median, and mode of a list of numbers using list\n",
    "comprehension."
   ]
  },
  {
   "cell_type": "code",
   "execution_count": 17,
   "id": "0e48dc36-0e5a-4e8b-a4b0-497c2bf29714",
   "metadata": {},
   "outputs": [
    {
     "name": "stdout",
     "output_type": "stream",
     "text": [
      "Mean: 4.555555555555555\n",
      "Median: 5\n",
      "Mode: 5\n"
     ]
    }
   ],
   "source": [
    "import statistics\n",
    "\n",
    "numbers = [1, 2, 3, 4, 5, 5, 6, 7, 8]\n",
    "mean = sum(numbers) / len(numbers)\n",
    "median = statistics.median(numbers)\n",
    "mode = statistics.mode(numbers)\n",
    "print(\"Mean:\", mean)\n",
    "print(\"Median:\", median)\n",
    "print(\"Mode:\", mode)\n"
   ]
  },
  {
   "cell_type": "markdown",
   "id": "bfdd4f42-64fa-4de8-951a-c0f1f46997b7",
   "metadata": {},
   "source": [
    "35. Create a program that generates Pascal's triangle up to a specified number of rows using list\n",
    "comprehension."
   ]
  },
  {
   "cell_type": "code",
   "execution_count": 18,
   "id": "d428d02d-6e74-4433-8051-2378bd1029a1",
   "metadata": {},
   "outputs": [
    {
     "name": "stdout",
     "output_type": "stream",
     "text": [
      "[1]\n",
      "[1, 1]\n",
      "[1, 2, 1]\n",
      "[1, 3, 3, 1]\n",
      "[1, 4, 6, 4, 1]\n"
     ]
    }
   ],
   "source": [
    "from math import comb\n",
    "\n",
    "num_rows = 5  # Change the number of rows as needed\n",
    "pascals_triangle = [[comb(n, k) for k in range(n + 1)] for n in range(num_rows)]\n",
    "for row in pascals_triangle:\n",
    "    print(row)\n"
   ]
  },
  {
   "cell_type": "markdown",
   "id": "4d44b577-dc5e-431e-a870-3166ceaec693",
   "metadata": {},
   "source": [
    "36. Develop a program that calculates the sum of the digits of a factorial of numbers from 1 to 5 using list\n",
    "comprehension."
   ]
  },
  {
   "cell_type": "code",
   "execution_count": 19,
   "id": "e24af297-b352-4f04-a3c4-0c8c88ba00e1",
   "metadata": {},
   "outputs": [
    {
     "name": "stdout",
     "output_type": "stream",
     "text": [
      "Sum of Digits of Factorials: [1, 2, 6, 6, 3]\n"
     ]
    }
   ],
   "source": [
    "from math import factorial\n",
    "\n",
    "numbers = [1, 2, 3, 4, 5]\n",
    "digit_sums = [sum(int(digit) for digit in str(factorial(num))) for num in numbers]\n",
    "print(\"Sum of Digits of Factorials:\", digit_sums)\n"
   ]
  },
  {
   "cell_type": "markdown",
   "id": "cee6ca77-4e8b-4b3d-bf8c-70896e3c8b02",
   "metadata": {},
   "source": [
    "37. Write a program that finds the longest word in a sentence using list comprehension."
   ]
  },
  {
   "cell_type": "code",
   "execution_count": 21,
   "id": "998c7050-25a4-4b6d-af64-1037f892923d",
   "metadata": {},
   "outputs": [
    {
     "name": "stdout",
     "output_type": "stream",
     "text": [
      "Longest Word: sentence\n"
     ]
    }
   ],
   "source": [
    "sentence = \"This is a sample sentence with some long words in it\"\n",
    "words = sentence.split()\n",
    "longest_word = max(words, key=len)\n",
    "print(\"Longest Word:\", longest_word)\n"
   ]
  },
  {
   "cell_type": "markdown",
   "id": "65972536-524f-4aae-bab7-8e7208cf602b",
   "metadata": {},
   "source": [
    "38. Create a program that filters a list of strings to include only those with more than three vowels using list\n",
    "comprehension."
   ]
  },
  {
   "cell_type": "code",
   "execution_count": 22,
   "id": "061ac00b-ace5-4318-b690-2ae965f021a5",
   "metadata": {},
   "outputs": [
    {
     "name": "stdout",
     "output_type": "stream",
     "text": [
      "Strings with more than three vowels: []\n"
     ]
    }
   ],
   "source": [
    "strings = [\"hello\", \"world\", \"programming\", \"Python\", \"vowels\"]\n",
    "filtered_strings = [s for s in strings if sum(1 for char in s if char.lower() in 'aeiou') > 3]\n",
    "print(\"Strings with more than three vowels:\", filtered_strings)\n"
   ]
  },
  {
   "cell_type": "markdown",
   "id": "94c3f6f9-f2a7-4f33-8934-413dee8ec6f8",
   "metadata": {},
   "source": [
    "39. Develop a program that calculates the sum of the digits of numbers from 1 to 1000 using list\n",
    "comprehension."
   ]
  },
  {
   "cell_type": "code",
   "execution_count": 23,
   "id": "91666b47-3c92-4c72-9f7f-b99f51a8d784",
   "metadata": {},
   "outputs": [
    {
     "name": "stdout",
     "output_type": "stream",
     "text": [
      "Sum of Digits for Numbers from 1 to 1000: [1, 2, 3, 4, 5, 6, 7, 8, 9, 1, 2, 3, 4, 5, 6, 7, 8, 9, 10, 2, 3, 4, 5, 6, 7, 8, 9, 10, 11, 3, 4, 5, 6, 7, 8, 9, 10, 11, 12, 4, 5, 6, 7, 8, 9, 10, 11, 12, 13, 5, 6, 7, 8, 9, 10, 11, 12, 13, 14, 6, 7, 8, 9, 10, 11, 12, 13, 14, 15, 7, 8, 9, 10, 11, 12, 13, 14, 15, 16, 8, 9, 10, 11, 12, 13, 14, 15, 16, 17, 9, 10, 11, 12, 13, 14, 15, 16, 17, 18, 1, 2, 3, 4, 5, 6, 7, 8, 9, 10, 2, 3, 4, 5, 6, 7, 8, 9, 10, 11, 3, 4, 5, 6, 7, 8, 9, 10, 11, 12, 4, 5, 6, 7, 8, 9, 10, 11, 12, 13, 5, 6, 7, 8, 9, 10, 11, 12, 13, 14, 6, 7, 8, 9, 10, 11, 12, 13, 14, 15, 7, 8, 9, 10, 11, 12, 13, 14, 15, 16, 8, 9, 10, 11, 12, 13, 14, 15, 16, 17, 9, 10, 11, 12, 13, 14, 15, 16, 17, 18, 10, 11, 12, 13, 14, 15, 16, 17, 18, 19, 2, 3, 4, 5, 6, 7, 8, 9, 10, 11, 3, 4, 5, 6, 7, 8, 9, 10, 11, 12, 4, 5, 6, 7, 8, 9, 10, 11, 12, 13, 5, 6, 7, 8, 9, 10, 11, 12, 13, 14, 6, 7, 8, 9, 10, 11, 12, 13, 14, 15, 7, 8, 9, 10, 11, 12, 13, 14, 15, 16, 8, 9, 10, 11, 12, 13, 14, 15, 16, 17, 9, 10, 11, 12, 13, 14, 15, 16, 17, 18, 10, 11, 12, 13, 14, 15, 16, 17, 18, 19, 11, 12, 13, 14, 15, 16, 17, 18, 19, 20, 3, 4, 5, 6, 7, 8, 9, 10, 11, 12, 4, 5, 6, 7, 8, 9, 10, 11, 12, 13, 5, 6, 7, 8, 9, 10, 11, 12, 13, 14, 6, 7, 8, 9, 10, 11, 12, 13, 14, 15, 7, 8, 9, 10, 11, 12, 13, 14, 15, 16, 8, 9, 10, 11, 12, 13, 14, 15, 16, 17, 9, 10, 11, 12, 13, 14, 15, 16, 17, 18, 10, 11, 12, 13, 14, 15, 16, 17, 18, 19, 11, 12, 13, 14, 15, 16, 17, 18, 19, 20, 12, 13, 14, 15, 16, 17, 18, 19, 20, 21, 4, 5, 6, 7, 8, 9, 10, 11, 12, 13, 5, 6, 7, 8, 9, 10, 11, 12, 13, 14, 6, 7, 8, 9, 10, 11, 12, 13, 14, 15, 7, 8, 9, 10, 11, 12, 13, 14, 15, 16, 8, 9, 10, 11, 12, 13, 14, 15, 16, 17, 9, 10, 11, 12, 13, 14, 15, 16, 17, 18, 10, 11, 12, 13, 14, 15, 16, 17, 18, 19, 11, 12, 13, 14, 15, 16, 17, 18, 19, 20, 12, 13, 14, 15, 16, 17, 18, 19, 20, 21, 13, 14, 15, 16, 17, 18, 19, 20, 21, 22, 5, 6, 7, 8, 9, 10, 11, 12, 13, 14, 6, 7, 8, 9, 10, 11, 12, 13, 14, 15, 7, 8, 9, 10, 11, 12, 13, 14, 15, 16, 8, 9, 10, 11, 12, 13, 14, 15, 16, 17, 9, 10, 11, 12, 13, 14, 15, 16, 17, 18, 10, 11, 12, 13, 14, 15, 16, 17, 18, 19, 11, 12, 13, 14, 15, 16, 17, 18, 19, 20, 12, 13, 14, 15, 16, 17, 18, 19, 20, 21, 13, 14, 15, 16, 17, 18, 19, 20, 21, 22, 14, 15, 16, 17, 18, 19, 20, 21, 22, 23, 6, 7, 8, 9, 10, 11, 12, 13, 14, 15, 7, 8, 9, 10, 11, 12, 13, 14, 15, 16, 8, 9, 10, 11, 12, 13, 14, 15, 16, 17, 9, 10, 11, 12, 13, 14, 15, 16, 17, 18, 10, 11, 12, 13, 14, 15, 16, 17, 18, 19, 11, 12, 13, 14, 15, 16, 17, 18, 19, 20, 12, 13, 14, 15, 16, 17, 18, 19, 20, 21, 13, 14, 15, 16, 17, 18, 19, 20, 21, 22, 14, 15, 16, 17, 18, 19, 20, 21, 22, 23, 15, 16, 17, 18, 19, 20, 21, 22, 23, 24, 7, 8, 9, 10, 11, 12, 13, 14, 15, 16, 8, 9, 10, 11, 12, 13, 14, 15, 16, 17, 9, 10, 11, 12, 13, 14, 15, 16, 17, 18, 10, 11, 12, 13, 14, 15, 16, 17, 18, 19, 11, 12, 13, 14, 15, 16, 17, 18, 19, 20, 12, 13, 14, 15, 16, 17, 18, 19, 20, 21, 13, 14, 15, 16, 17, 18, 19, 20, 21, 22, 14, 15, 16, 17, 18, 19, 20, 21, 22, 23, 15, 16, 17, 18, 19, 20, 21, 22, 23, 24, 16, 17, 18, 19, 20, 21, 22, 23, 24, 25, 8, 9, 10, 11, 12, 13, 14, 15, 16, 17, 9, 10, 11, 12, 13, 14, 15, 16, 17, 18, 10, 11, 12, 13, 14, 15, 16, 17, 18, 19, 11, 12, 13, 14, 15, 16, 17, 18, 19, 20, 12, 13, 14, 15, 16, 17, 18, 19, 20, 21, 13, 14, 15, 16, 17, 18, 19, 20, 21, 22, 14, 15, 16, 17, 18, 19, 20, 21, 22, 23, 15, 16, 17, 18, 19, 20, 21, 22, 23, 24, 16, 17, 18, 19, 20, 21, 22, 23, 24, 25, 17, 18, 19, 20, 21, 22, 23, 24, 25, 26, 9, 10, 11, 12, 13, 14, 15, 16, 17, 18, 10, 11, 12, 13, 14, 15, 16, 17, 18, 19, 11, 12, 13, 14, 15, 16, 17, 18, 19, 20, 12, 13, 14, 15, 16, 17, 18, 19, 20, 21, 13, 14, 15, 16, 17, 18, 19, 20, 21, 22, 14, 15, 16, 17, 18, 19, 20, 21, 22, 23, 15, 16, 17, 18, 19, 20, 21, 22, 23, 24, 16, 17, 18, 19, 20, 21, 22, 23, 24, 25, 17, 18, 19, 20, 21, 22, 23, 24, 25, 26, 18, 19, 20, 21, 22, 23, 24, 25, 26, 27, 1]\n"
     ]
    }
   ],
   "source": [
    "digit_sums = [sum(int(digit) for digit in str(num)) for num in range(1, 1001)]\n",
    "print(\"Sum of Digits for Numbers from 1 to 1000:\", digit_sums)\n"
   ]
  },
  {
   "cell_type": "markdown",
   "id": "0338f8e3-427b-4acf-925f-cb20bd04d80c",
   "metadata": {},
   "source": [
    "40. Write a program that generates a list of prime palindromic numbers using list comprehension."
   ]
  },
  {
   "cell_type": "code",
   "execution_count": 24,
   "id": "f95171b0-108b-4afa-a0ae-dd2f7c983ba4",
   "metadata": {},
   "outputs": [
    {
     "name": "stdout",
     "output_type": "stream",
     "text": [
      "Prime Palindromic Numbers: [2, 3, 5, 7, 11, 101, 131, 151, 181, 191, 313, 353, 373, 383, 727, 757, 787, 797, 919, 929]\n"
     ]
    }
   ],
   "source": [
    "def is_prime(num):\n",
    "    if num <= 1:\n",
    "        return False\n",
    "    for i in range(2, int(num**0.5) + 1):\n",
    "        if num % i == 0:\n",
    "            return False\n",
    "    return True\n",
    "\n",
    "def is_palindromic(num):\n",
    "    return str(num) == str(num)[::-1]\n",
    "\n",
    "prime_palindromic_numbers = [num for num in range(1, 1000) if is_prime(num) and is_palindromic(num)]\n",
    "print(\"Prime Palindromic Numbers:\", prime_palindromic_numbers)\n"
   ]
  },
  {
   "cell_type": "code",
   "execution_count": null,
   "id": "3992e2da-a588-46d3-a590-487480e4d84b",
   "metadata": {},
   "outputs": [],
   "source": []
  }
 ],
 "metadata": {
  "kernelspec": {
   "display_name": "Python 3 (ipykernel)",
   "language": "python",
   "name": "python3"
  },
  "language_info": {
   "codemirror_mode": {
    "name": "ipython",
    "version": 3
   },
   "file_extension": ".py",
   "mimetype": "text/x-python",
   "name": "python",
   "nbconvert_exporter": "python",
   "pygments_lexer": "ipython3",
   "version": "3.10.8"
  }
 },
 "nbformat": 4,
 "nbformat_minor": 5
}
